{
 "cells": [
  {
   "cell_type": "markdown",
   "metadata": {},
   "source": [
    "# Product attributes "
   ]
  },
  {
   "cell_type": "markdown",
   "metadata": {},
   "source": [
    "This file crawls for attributes of the product (price, average rating, number of ratings, number of reviews, number of answered questions, prime category, Discount)"
   ]
  },
  {
   "cell_type": "code",
   "execution_count": 1,
   "metadata": {},
   "outputs": [],
   "source": [
    "import pandas as pd\n",
    "import time\n",
    "import urllib.request\n",
    "from urllib.request import FancyURLopener  # This is library that helps us create the headless browser\n",
    "import random\n",
    "from random import choice #This library helps pick a random item from a list\n",
    "from selenium.webdriver import Chrome\n",
    "import bs4 as bs\n",
    "from bs4 import BeautifulSoup\n",
    "from bs4 import SoupStrainer\n",
    "import csv"
   ]
  },
  {
   "cell_type": "code",
   "execution_count": null,
   "metadata": {},
   "outputs": [
    {
     "name": "stdout",
     "output_type": "stream",
     "text": [
      "https://www.amazon.com//Fire-HD-10/dp/B07K1RZWMC/\n"
     ]
    },
    {
     "name": "stderr",
     "output_type": "stream",
     "text": [
      "C:\\Users\\18482\\Anaconda3\\lib\\site-packages\\ipykernel_launcher.py:26: DeprecationWarning: MyOpener style of invoking requests is deprecated. Use newer urlopen functions/methods\n"
     ]
    },
    {
     "name": "stdout",
     "output_type": "stream",
     "text": [
      "['1000']\n",
      "https://www.amazon.com//Echo-Dot-3rd-Gen-speaker/dp/B07W95GZNH/\n",
      "['1000', '1000']\n",
      "https://www.amazon.com//Echo-Dot/dp/B07N8RPRF7/\n",
      "['1000', '1000', '1000']\n",
      "https://www.amazon.com//Echo-Show-8/dp/B07PF1Y28C/\n",
      "['1000', '1000', '1000', '0']\n",
      "https://www.amazon.com//Roku-Express-Streaming-Media-Player/dp/B07WVFCVJN/\n",
      "['1000', '1000', '1000', '0', '0']\n",
      "https://www.amazon.com//all-new-fire-tv-cube-with-alexa-voice-remote/dp/B07KGVB6D6/\n",
      "['1000', '1000', '1000', '0', '0', '386']\n",
      "https://www.amazon.com//Fire-HD-10/dp/B07KD6YDKC/\n",
      "['1000', '1000', '1000', '0', '0', '386', '1000']\n",
      "https://www.amazon.com//Xbox-All-Digital-Console-Disc-free-Gaming/dp/B07XQXZXJC/\n",
      "['1000', '1000', '1000', '0', '0', '386', '1000', '78']\n",
      "https://www.amazon.com//Fire-HD-10/dp/B07KD8R6HD/\n",
      "['1000', '1000', '1000', '0', '0', '386', '1000', '78', '1000']\n",
      "https://www.amazon.com//Remote-months-SHOWTIME-automatic-renewal/dp/B0815V22GJ/\n",
      "['1000', '1000', '1000', '0', '0', '386', '1000', '78', '1000', '1000']\n",
      "https://www.amazon.com//clock-Sandstone-Bundle-TP-Link-simple/dp/B07Z4GFFMW/\n",
      "['1000', '1000', '1000', '0', '0', '386', '1000', '78', '1000', '1000', '12']\n",
      "https://www.amazon.com//Fire-HD-10/dp/B07KD6BTCZ/\n",
      "['1000', '1000', '1000', '0', '0', '386', '1000', '78', '1000', '1000', '12', '0']\n",
      "https://www.amazon.com//Fire-HD-10-Kids-Edition/dp/B07KD7K4B1/\n",
      "['1000', '1000', '1000', '0', '0', '386', '1000', '78', '1000', '1000', '12', '0', '0']\n",
      "https://www.amazon.com//all-new-Echo/dp/B07NFTVP7P/\n",
      "['1000', '1000', '1000', '0', '0', '386', '1000', '78', '1000', '1000', '12', '0', '0', '244']\n",
      "https://www.amazon.com//Introducing-Ring-Indoor-Cam-Compact-Plug-In-HD-security-camera-with-two-way-talk-White-Works-with-Alexa-/dp/B07Q9VBYV8/\n",
      "['1000', '1000', '1000', '0', '0', '386', '1000', '78', '1000', '1000', '12', '0', '0', '244', '384']\n",
      "https://www.amazon.com//Echo-Show-8/dp/B07RQ3TCT2/\n"
     ]
    }
   ],
   "source": [
    "Answered_Questions=[]\n",
    "Price=[]\n",
    "Discount=[]\n",
    "customer_review_count=[]\n",
    "rank=[]\n",
    "\n",
    "# reading the individual files \n",
    "df_raw=pd.read_csv(\"electronicsru.csv\",encoding=\"latin1\")\n",
    "\n",
    "# iterating through all the top products in a category\n",
    "\n",
    "for i in range(0,100):\n",
    "    \n",
    "    url='https://www.amazon.com/'+df_raw[\"product_link\"][i]\n",
    "    \n",
    "    print(url)\n",
    "    user_agents = [\n",
    "    'Mozilla/5.0 (Windows NT 6.1) AppleWebKit/537.36 (KHTML, like Gecko) Chrome/41.0.2228.0 Safari/537.36',\n",
    "    'Opera/9.80 (X11; Linux i686; Ubuntu/14.10) Presto/2.12.388 Version/12.16',\n",
    "    'Mozilla/5.0 (Windows; U; Windows NT 6.1; rv:2.2) Gecko/20110201',\n",
    "    'Mozilla/5.0 (Macintosh; Intel Mac OS X 10_9_3) AppleWebKit/537.75.14 (KHTML, like Gecko) Version/7.0.3 Safari/7046A194A',\n",
    "    'Mozilla/5.0 (Windows NT 10.0; Win64; x64) AppleWebKit/537.36 (KHTML, like Gecko) Chrome/42.0.2311.135 Safari/537.36 Edge/12.246']\n",
    "    \n",
    "    try:\n",
    "        \n",
    "        class MyOpener(FancyURLopener, object):\n",
    "                version = choice(user_agents)\n",
    "\n",
    "        myopener = MyOpener()\n",
    "        page=myopener.open(url)\n",
    "\n",
    "        time.sleep(random.uniform(20,25))\n",
    "        html=page.read().decode('utf-8')\n",
    "        soup=bs.BeautifulSoup(html)\n",
    "        \n",
    "    except:\n",
    "        Answered_Questions.append(\"No Answered Questions\")\n",
    "        Price.append(\"No Price\")\n",
    "        Discount.append(\"No Discount\")\n",
    "        customer_review_count.append(\"No Customer Reviews\")\n",
    "        \n",
    "    # retrieve the answered questions\n",
    "    try:\n",
    "\n",
    "        Answered_Questions.append(soup.find_all(\"span\",class_=\"celwidget\")[0].find(\"span\",class_=\"a-size-base\").getText().replace(\"+\",\"\").split()[0])\n",
    "    except:\n",
    "        Answered_Questions.append(\"0\")\n",
    "    \n",
    "    \n",
    "    # Retrieve the price of the product\n",
    "    if soup.find_all(\"span\",class_=\"a-size-medium a-color-price priceBlockBuyingPriceString\")!= []:\n",
    "        Price.append(soup.find_all(\"span\",class_=\"a-size-medium a-color-price priceBlockBuyingPriceString\")[0].getText()[1:])\n",
    "    elif soup.find_all(\"span\",class_=\"a-size-medium a-color-price priceBlockDealPriceString\")!= []:\n",
    "        Price.append(soup.find_all(\"span\",class_=\"a-size-medium a-color-price priceBlockDealPriceString\")[0].getText()[1:])\n",
    "    else:\n",
    "        Price.append(\"0\")\n",
    "\n",
    "    # retrieve customer review count\n",
    "    try:\n",
    "        customer_review_count.append(soup.find_all(\"span\",class_=\"cr-widget-FocalReviews\")[0].find(\"span\",class_=\"a-size-base\").getText().split()[0])\n",
    "    except:\n",
    "        customer_review_count.append(\"0\")\n",
    "    \n",
    "    # retrieve discount\n",
    "    try:\n",
    "        Discount.append(soup.find_all(\"td\",class_=\"a-span12 a-color-price a-size-base priceBlockSavingsString\")[0].getText().replace(\"\\n\",\"\").split()[1].split('(')[1].split('%')[0])\n",
    "    except:\n",
    "        Discount.append(\"0\")\n",
    "    rank.append(i+1)\n",
    "\n",
    "# appending all the lists to a dataframe\n",
    "df = pd.DataFrame(list(zip(rank, Answered_Questions, Price , customer_review_count, Discount)), \n",
    "            columns =['rank', 'Answered_Questions', 'Price' , 'customer_review_count', 'Discount'])\n",
    "\n",
    "# exporting dataframe to csv file\n",
    "df.to_csv('dataframe_category.csv', index = False)\n"
   ]
  }
 ],
 "metadata": {
  "kernelspec": {
   "display_name": "Python 3",
   "language": "python",
   "name": "python3"
  },
  "language_info": {
   "codemirror_mode": {
    "name": "ipython",
    "version": 3
   },
   "file_extension": ".py",
   "mimetype": "text/x-python",
   "name": "python",
   "nbconvert_exporter": "python",
   "pygments_lexer": "ipython3",
   "version": "3.7.3"
  }
 },
 "nbformat": 4,
 "nbformat_minor": 2
}
